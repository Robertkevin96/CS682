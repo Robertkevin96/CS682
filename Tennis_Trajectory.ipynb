{
  "cells": [
    {
      "cell_type": "markdown",
      "metadata": {
        "id": "view-in-github",
        "colab_type": "text"
      },
      "source": [
        "<a href=\"https://colab.research.google.com/github/Robertkevin96/CS682/blob/main/Tennis_Trajectory.ipynb\" target=\"_parent\"><img src=\"https://colab.research.google.com/assets/colab-badge.svg\" alt=\"Open In Colab\"/></a>"
      ]
    },
    {
      "cell_type": "code",
      "execution_count": null,
      "metadata": {
        "id": "YxMrV2opL-Mn"
      },
      "outputs": [],
      "source": [
        "import numpy as np\n",
        "import matplotlib.pyplot as plt\n",
        "from scipy.integrate import odeint\n",
        "import tkinter as tk\n",
        "import math\n",
        "import sys\n",
        "import pandas as pd\n",
        "from google.colab import files\n",
        "sys.setrecursionlimit(15000)\n"
      ]
    },
    {
      "cell_type": "code",
      "execution_count": null,
      "metadata": {
        "id": "FntWBHF8MGES"
      },
      "outputs": [],
      "source": [
        "\n",
        "#Constant values\n",
        "gravity = 9.82#m/s^2\n",
        "ballMass = 0.058 #.058kg\n",
        "airDensity = (1.21) #kg/m^3\n",
        "radius = (0.033)#m\n",
        "pi = (3.14)\n",
        "crossSection =(pi * (radius**2))"
      ]
    },
    {
      "cell_type": "code",
      "execution_count": null,
      "metadata": {
        "id": "_ZZ7_W7OMJWf"
      },
      "outputs": [],
      "source": [
        "#User input from textboxes needed. Calculating spin(rpm/60 * 2pi = (rads))\n",
        "velocity = 100 #needs user input can not be hard coded\n",
        "rpm = 3200 #user input. Needs changing\n",
        "rps = rpm/60\n",
        "spin_rads = rps * (2*pi)\n",
        "v_spin = (spin_rads * radius)*60\n",
        "k = velocity/v_spin\n",
        "apv = crossSection * airDensity * velocity\n",
        "theta = 4\n",
        "deltaT = .1\n",
        "\n"
      ]
    },
    {
      "cell_type": "code",
      "execution_count": null,
      "metadata": {
        "id": "AkoArkHitVdJ"
      },
      "outputs": [],
      "source": [
        "#sine and cosine functions"
      ]
    },
    {
      "cell_type": "code",
      "execution_count": null,
      "metadata": {
        "id": "l-q3L1h2MJd_"
      },
      "outputs": [],
      "source": [
        "#Lift Coefficient\n",
        "Cl = (1/(2.022 + (0.981*k)))"
      ]
    },
    {
      "cell_type": "code",
      "execution_count": null,
      "metadata": {
        "id": "1oFnziskMJkm"
      },
      "outputs": [],
      "source": [
        "#Drag Coefficient\n",
        "Cd = .508+(1/(22.503+(4.196*(k**2.5)))**.4)"
      ]
    },
    {
      "cell_type": "code",
      "execution_count": null,
      "metadata": {
        "id": "j0VDS9COrYny"
      },
      "outputs": [],
      "source": [
        "#Fd and FL\n",
        "Fd = 1/2*(Cd * crossSection * airDensity *(velocity**2))\n",
        "Fl = 1/2*(Cl * crossSection * airDensity *(velocity**2))"
      ]
    },
    {
      "cell_type": "code",
      "execution_count": null,
      "metadata": {
        "colab": {
          "base_uri": "https://localhost:8080/"
        },
        "id": "-nBmGH-xacAa",
        "outputId": "2996802e-6869-44e2-ea97-29eb4d03360e"
      },
      "outputs": [
        {
          "output_type": "stream",
          "name": "stdout",
          "text": [
            "Drag Coefficient 0.795619321616599\n",
            "Lift coefficient 0.4608451411558394\n",
            "Fd 16.459560095245333\n",
            "Fl 9.533841234579317\n",
            "cross section 0.0034194600000000005\n",
            "air density 1.21\n",
            "velocity 100\n"
          ]
        }
      ],
      "source": [
        "print (\"Drag Coefficient\",Cd)\n",
        "print (\"Lift coefficient\", Cl)\n",
        "print (\"Fd\", Fd)\n",
        "print (\"Fl\", Fl)\n",
        "print (\"cross section\" , crossSection)\n",
        "print (\"air density\", airDensity)\n",
        "print (\"velocity\", velocity)"
      ]
    },
    {
      "cell_type": "code",
      "execution_count": null,
      "metadata": {
        "id": "N4DsJWLQMJp_"
      },
      "outputs": [],
      "source": [
        "#Magnus force\n",
        "magnus_force = 1/2*((Cl*crossSection*airDensity)*(velocity**2))"
      ]
    },
    {
      "cell_type": "code",
      "execution_count": null,
      "metadata": {
        "colab": {
          "base_uri": "https://localhost:8080/"
        },
        "id": "K_JtJMsZn1d_",
        "outputId": "beecc660-e090-4f6e-ad62-4a42ccf18f50"
      },
      "outputs": [
        {
          "output_type": "stream",
          "name": "stdout",
          "text": [
            "9.533841234579317\n"
          ]
        }
      ],
      "source": [
        "print(magnus_force)"
      ]
    },
    {
      "cell_type": "markdown",
      "source": [
        ""
      ],
      "metadata": {
        "id": "HxT4-TgMCyit"
      }
    },
    {
      "cell_type": "code",
      "source": [
        "# # RK-4 method python program\n",
        "# def func_topspin_vx(vx,t):\n",
        "    \n",
        "#     return (apv/2*0.058)*((Cl*math.cos(theta)*math.sin(theta))-((Cd*(math.cos(theta)*math.cos(theta)))/2))\n",
        "\n",
        "# def func_topspin_vy(vy,t):\n",
        "    \n",
        "#     return ((apv/2*0.058)*((-Cl*math.cos(theta)*math.sin(theta))-((Cd*math.sin(theta)*math.sin(theta))/2))- gravity)\n",
        "\n",
        "\n",
        "# def func_backspin_vx(vx,t):\n",
        "    \n",
        "#     return (apv/2*0.058)*((-Cl*vx*math.sin(theta))-((Cd*(vx*vx))/2))\n",
        "\n",
        " # RK-4 method python program\n",
        "# def func_backspin_vy(vy,t):\n",
        "    \n",
        "#     return ((apv/2*0.058)*((Cl*math.cos(theta)*vy)-((Cd*vy*vy)/2))- gravity)\n",
        "def func_topspin_vx(vx,t):\n",
        "    \n",
        "    return (apv/2*0.058)*((-Cd*math.cos(theta))+(Cl*(velocity*math.sin(theta))))\n",
        "\n",
        "def func_topspin_vy(vy,t):\n",
        "    \n",
        "    return ((apv/2*0.058)*((-Cd*(velocity*math.cos(theta))-(Cl*math.sin(theta))))- gravity)\n",
        "\n",
        "def func_backspin_vx(vx,t):\n",
        "    \n",
        "    return (apv/2*0.058)*((-Cd*vx)-(Cl*(velocity*math.sin(theta))))\n",
        "\n",
        "def func_backspin_vy(vy,t):\n",
        "    \n",
        "    return ((apv/2*0.058)*((-Cd*(velocity*math.cos(theta))-(Cl*vy)))- gravity)\n",
        "\n",
        "# RK-4 method\n",
        "def rk4(x0,y0,t,n,function_):\n",
        "    \n",
        "    # Calculating step size\n",
        "    h = (t-x0)/n\n",
        "    \n",
        "    # //print('\\n--------Top Spin--------')\n",
        "    # //print('-------------------------')    \n",
        "    # print('x0\\ty0\\tdvx')\n",
        "    # print('-------------------------')\n",
        "    for i in range(n):\n",
        "        k1 = h * (function_(x0, y0))\n",
        "        k2 = h * (function_((x0+h/2), (y0+k1/2)))\n",
        "        k3 = h * (function_((x0+h/2), (y0+k2/2)))\n",
        "        k4 = h * (function_((x0+h), (y0+k3)))\n",
        "        k = (k1+2*k2+2*k3+k4)/6\n",
        "        dv = y0 + k\n",
        "        # print('%.4f\\t%.4f\\t%.4f'% (x0,y0,dvx) )\n",
        "        # print('-------------------------')\n",
        "        y0 = dv\n",
        "        x0 = x0+h\n",
        "    \n",
        "    #print('\\nAt t=%.4f, vx=%.4f' %(xn,dvx))\n",
        "    return dv\n",
        "    \n",
        "\n",
        "\n"
      ],
      "metadata": {
        "id": "z3KezKh4Bd7H"
      },
      "execution_count": null,
      "outputs": []
    },
    {
      "cell_type": "code",
      "source": [
        "def plot(x0,y0,t):\n",
        "  x,y=x0,y0\n",
        "  data=pd.DataFrame(columns=['x','y','t','velocity','theta','rpm','fd','fl'])\n",
        "  while y>0 or x!= 11.885 and y> 0.992:\n",
        "    print (y)\n",
        "    if spin==1:\n",
        "      vx=rk4(x,y,t,5,func_topspin_vx)\n",
        "      vy=rk4(x,y,t,5,func_topspin_vy)\n",
        "      print(vx,vy)\n",
        "    else:\n",
        "      vx=rk4(x,y,t,5,func_backspin_vx)\n",
        "      vy=rk4(x,y,t,5,func_backspin_vy)\n",
        "      print(vx,vy)\n",
        "   \n",
        "    x=x+vx*t\n",
        "    y=y+vy*t\n",
        "    print(x,y)\n",
        "    if(y>0):\n",
        "      data=data.append({'x':x,'y':y,'t':t,'velocity':velocity,'theta':theta,'rpm':rpm,'fd':Fd,'fl':Fl},ignore_index=True)\n",
        "    else:\n",
        "      break\n",
        "    if data.shape[0]==1:\n",
        "      t=1\n",
        "    else:\n",
        "      t=t*2\n",
        "  return data"
      ],
      "metadata": {
        "id": "GxC25k_ouUsq"
      },
      "execution_count": null,
      "outputs": []
    },
    {
      "cell_type": "code",
      "source": [
        "userx = float(input('x0 = '))\n",
        "usery = float(input('y0 = '))\n",
        "print('\\n--------Type of Spin--------')\n",
        "print('press 1 for Top Spin')\n",
        "print('press 2 for Back Spin')\n",
        "spin = input('Choice = ')\n",
        "df=plot(userx,usery,0)"
      ],
      "metadata": {
        "colab": {
          "base_uri": "https://localhost:8080/"
        },
        "id": "gvRid3N85-C1",
        "outputId": "5dd7de5c-d318-4d4c-aa58-f855a36bc63a"
      },
      "execution_count": null,
      "outputs": [
        {
          "output_type": "stream",
          "name": "stdout",
          "text": [
            "x0 = 0\n",
            "y0 = 3\n",
            "\n",
            "--------Type of Spin--------\n",
            "press 1 for Top Spin\n",
            "press 2 for Back Spin\n",
            "Choice = 1\n",
            "3.0\n",
            "3.0 3.0\n",
            "0.0 3.0\n",
            "3.0\n",
            "3.4137103480719357 -6.198760999366282\n",
            "3.4137103480719357 -3.198760999366282\n"
          ]
        }
      ]
    },
    {
      "cell_type": "code",
      "source": [
        "df"
      ],
      "metadata": {
        "colab": {
          "base_uri": "https://localhost:8080/",
          "height": 81
        },
        "id": "ZsjlQ-R269mb",
        "outputId": "4963e8dc-cd06-4032-c614-e014cec783f0"
      },
      "execution_count": null,
      "outputs": [
        {
          "output_type": "execute_result",
          "data": {
            "text/plain": [
              "     x    y    t  velocity  theta     rpm        fd        fl\n",
              "0  0.0  3.0  0.0     100.0    4.0  3200.0  16.45956  9.533841"
            ],
            "text/html": [
              "\n",
              "  <div id=\"df-23a42f70-6b17-4980-9840-de7b711522ab\">\n",
              "    <div class=\"colab-df-container\">\n",
              "      <div>\n",
              "<style scoped>\n",
              "    .dataframe tbody tr th:only-of-type {\n",
              "        vertical-align: middle;\n",
              "    }\n",
              "\n",
              "    .dataframe tbody tr th {\n",
              "        vertical-align: top;\n",
              "    }\n",
              "\n",
              "    .dataframe thead th {\n",
              "        text-align: right;\n",
              "    }\n",
              "</style>\n",
              "<table border=\"1\" class=\"dataframe\">\n",
              "  <thead>\n",
              "    <tr style=\"text-align: right;\">\n",
              "      <th></th>\n",
              "      <th>x</th>\n",
              "      <th>y</th>\n",
              "      <th>t</th>\n",
              "      <th>velocity</th>\n",
              "      <th>theta</th>\n",
              "      <th>rpm</th>\n",
              "      <th>fd</th>\n",
              "      <th>fl</th>\n",
              "    </tr>\n",
              "  </thead>\n",
              "  <tbody>\n",
              "    <tr>\n",
              "      <th>0</th>\n",
              "      <td>0.0</td>\n",
              "      <td>3.0</td>\n",
              "      <td>0.0</td>\n",
              "      <td>100.0</td>\n",
              "      <td>4.0</td>\n",
              "      <td>3200.0</td>\n",
              "      <td>16.45956</td>\n",
              "      <td>9.533841</td>\n",
              "    </tr>\n",
              "  </tbody>\n",
              "</table>\n",
              "</div>\n",
              "      <button class=\"colab-df-convert\" onclick=\"convertToInteractive('df-23a42f70-6b17-4980-9840-de7b711522ab')\"\n",
              "              title=\"Convert this dataframe to an interactive table.\"\n",
              "              style=\"display:none;\">\n",
              "        \n",
              "  <svg xmlns=\"http://www.w3.org/2000/svg\" height=\"24px\"viewBox=\"0 0 24 24\"\n",
              "       width=\"24px\">\n",
              "    <path d=\"M0 0h24v24H0V0z\" fill=\"none\"/>\n",
              "    <path d=\"M18.56 5.44l.94 2.06.94-2.06 2.06-.94-2.06-.94-.94-2.06-.94 2.06-2.06.94zm-11 1L8.5 8.5l.94-2.06 2.06-.94-2.06-.94L8.5 2.5l-.94 2.06-2.06.94zm10 10l.94 2.06.94-2.06 2.06-.94-2.06-.94-.94-2.06-.94 2.06-2.06.94z\"/><path d=\"M17.41 7.96l-1.37-1.37c-.4-.4-.92-.59-1.43-.59-.52 0-1.04.2-1.43.59L10.3 9.45l-7.72 7.72c-.78.78-.78 2.05 0 2.83L4 21.41c.39.39.9.59 1.41.59.51 0 1.02-.2 1.41-.59l7.78-7.78 2.81-2.81c.8-.78.8-2.07 0-2.86zM5.41 20L4 18.59l7.72-7.72 1.47 1.35L5.41 20z\"/>\n",
              "  </svg>\n",
              "      </button>\n",
              "      \n",
              "  <style>\n",
              "    .colab-df-container {\n",
              "      display:flex;\n",
              "      flex-wrap:wrap;\n",
              "      gap: 12px;\n",
              "    }\n",
              "\n",
              "    .colab-df-convert {\n",
              "      background-color: #E8F0FE;\n",
              "      border: none;\n",
              "      border-radius: 50%;\n",
              "      cursor: pointer;\n",
              "      display: none;\n",
              "      fill: #1967D2;\n",
              "      height: 32px;\n",
              "      padding: 0 0 0 0;\n",
              "      width: 32px;\n",
              "    }\n",
              "\n",
              "    .colab-df-convert:hover {\n",
              "      background-color: #E2EBFA;\n",
              "      box-shadow: 0px 1px 2px rgba(60, 64, 67, 0.3), 0px 1px 3px 1px rgba(60, 64, 67, 0.15);\n",
              "      fill: #174EA6;\n",
              "    }\n",
              "\n",
              "    [theme=dark] .colab-df-convert {\n",
              "      background-color: #3B4455;\n",
              "      fill: #D2E3FC;\n",
              "    }\n",
              "\n",
              "    [theme=dark] .colab-df-convert:hover {\n",
              "      background-color: #434B5C;\n",
              "      box-shadow: 0px 1px 3px 1px rgba(0, 0, 0, 0.15);\n",
              "      filter: drop-shadow(0px 1px 2px rgba(0, 0, 0, 0.3));\n",
              "      fill: #FFFFFF;\n",
              "    }\n",
              "  </style>\n",
              "\n",
              "      <script>\n",
              "        const buttonEl =\n",
              "          document.querySelector('#df-23a42f70-6b17-4980-9840-de7b711522ab button.colab-df-convert');\n",
              "        buttonEl.style.display =\n",
              "          google.colab.kernel.accessAllowed ? 'block' : 'none';\n",
              "\n",
              "        async function convertToInteractive(key) {\n",
              "          const element = document.querySelector('#df-23a42f70-6b17-4980-9840-de7b711522ab');\n",
              "          const dataTable =\n",
              "            await google.colab.kernel.invokeFunction('convertToInteractive',\n",
              "                                                     [key], {});\n",
              "          if (!dataTable) return;\n",
              "\n",
              "          const docLinkHtml = 'Like what you see? Visit the ' +\n",
              "            '<a target=\"_blank\" href=https://colab.research.google.com/notebooks/data_table.ipynb>data table notebook</a>'\n",
              "            + ' to learn more about interactive tables.';\n",
              "          element.innerHTML = '';\n",
              "          dataTable['output_type'] = 'display_data';\n",
              "          await google.colab.output.renderOutput(dataTable, element);\n",
              "          const docLink = document.createElement('div');\n",
              "          docLink.innerHTML = docLinkHtml;\n",
              "          element.appendChild(docLink);\n",
              "        }\n",
              "      </script>\n",
              "    </div>\n",
              "  </div>\n",
              "  "
            ]
          },
          "metadata": {},
          "execution_count": 64
        }
      ]
    },
    {
      "cell_type": "code",
      "source": [
        "df.plot('x','y')\n"
      ],
      "metadata": {
        "colab": {
          "base_uri": "https://localhost:8080/",
          "height": 296
        },
        "id": "5mOG_6l_82N1",
        "outputId": "8a63256b-137a-41d1-c9a4-bf4a2b0a26e2"
      },
      "execution_count": null,
      "outputs": [
        {
          "output_type": "execute_result",
          "data": {
            "text/plain": [
              "<matplotlib.axes._subplots.AxesSubplot at 0x7fdb6304de90>"
            ]
          },
          "metadata": {},
          "execution_count": 65
        },
        {
          "output_type": "display_data",
          "data": {
            "text/plain": [
              "<Figure size 432x288 with 1 Axes>"
            ],
            "image/png": "[encoded data removed]"
          },
          "metadata": {
            "needs_background": "light"
          }
        }
      ]
    },
    {
      "cell_type": "code",
      "source": [
        "df.to_csv('trajectorydata.csv',encoding = 'utf-8-sig')"
      ],
      "metadata": {
        "id": "1gHMQ3Wr5ob-"
      },
      "execution_count": null,
      "outputs": []
    }
  ],
  "metadata": {
    "colab": {
      "collapsed_sections": [],
      "name": "Tennis Trajectory.ipynb",
      "provenance": [],
      "include_colab_link": true
    },
    "kernelspec": {
      "display_name": "Python 3",
      "name": "python3"
    },
    "language_info": {
      "name": "python"
    }
  },
  "nbformat": 4,
  "nbformat_minor": 0
}